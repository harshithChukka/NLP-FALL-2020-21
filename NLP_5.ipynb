{
 "cells": [
  {
   "cell_type": "code",
   "execution_count": 1,
   "metadata": {},
   "outputs": [],
   "source": [
    "import spacy "
   ]
  },
  {
   "cell_type": "code",
   "execution_count": null,
   "metadata": {},
   "outputs": [],
   "source": [
    "m = spacy.load('en_core_web_sm')"
   ]
  },
  {
   "cell_type": "code",
   "execution_count": 3,
   "metadata": {},
   "outputs": [],
   "source": [
    "txt_1 = \"\"\"Python is a general purpose, dynamic, high-level, and interpreted programming language. \n",
    "It supports Object Oriented programming approach to develop applications. \n",
    "It is simple and easy to learn and provides lots of high-level data structures.\"\"\""
   ]
  },
  {
   "cell_type": "code",
   "execution_count": 4,
   "metadata": {},
   "outputs": [
    {
     "name": "stdout",
     "output_type": "stream",
     "text": [
      "Python ORG\n",
      "Object Oriented ORG\n"
     ]
    }
   ],
   "source": [
    "doc_1 = m(txt_1)\n",
    "for ent in doc_1.ents:\n",
    "    print(ent.text,ent.label_)"
   ]
  },
  {
   "cell_type": "code",
   "execution_count": 5,
   "metadata": {},
   "outputs": [],
   "source": [
    "txt_2 = \"\"\"JavaScript is a light-weight object-oriented programming language which is used by \n",
    "several websites for scripting the webpages. It is an interpreted, full-fledged programming language \n",
    "that enables dynamic interactivity on websites when applied to an HTML document.\"\"\""
   ]
  },
  {
   "cell_type": "code",
   "execution_count": 6,
   "metadata": {},
   "outputs": [
    {
     "name": "stdout",
     "output_type": "stream",
     "text": [
      "JavaScript ORG\n"
     ]
    }
   ],
   "source": [
    "doc_2 = m(txt_2)\n",
    "for ent in doc_2.ents:\n",
    "    print(ent.text,ent.label_)"
   ]
  },
  {
   "cell_type": "code",
   "execution_count": 7,
   "metadata": {},
   "outputs": [],
   "source": [
    "locs = [('Alex','works','painter'),('Rose T','works','florist'),('Amy S','works','florist')]"
   ]
  },
  {
   "cell_type": "code",
   "execution_count": 8,
   "metadata": {},
   "outputs": [
    {
     "name": "stdout",
     "output_type": "stream",
     "text": [
      "['Rose T', 'Amy S']\n"
     ]
    }
   ],
   "source": [
    "query = [e1 for (e1,re1,e2) in locs if e2 == 'florist']\n",
    "print(query)\n"
   ]
  },
  {
   "cell_type": "code",
   "execution_count": null,
   "metadata": {},
   "outputs": [],
   "source": []
  }
 ],
 "metadata": {
  "kernelspec": {
   "display_name": "Python 3",
   "language": "python",
   "name": "python3"
  },
  "language_info": {
   "codemirror_mode": {
    "name": "ipython",
    "version": 3
   },
   "file_extension": ".py",
   "mimetype": "text/x-python",
   "name": "python",
   "nbconvert_exporter": "python",
   "pygments_lexer": "ipython3",
   "version": "3.7.4"
  }
 },
 "nbformat": 4,
 "nbformat_minor": 2
}
